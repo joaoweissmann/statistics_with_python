{
 "cells": [
  {
   "cell_type": "markdown",
   "metadata": {},
   "source": [
    "## Importando bibliotecas"
   ]
  },
  {
   "cell_type": "code",
   "execution_count": 1,
   "metadata": {},
   "outputs": [],
   "source": [
    "import pandas as pd\n",
    "import numpy as np\n",
    "from scipy import stats\n",
    "import matplotlib.pyplot as plt\n",
    "import seaborn as sns\n",
    "\n",
    "sns.set_style('whitegrid')\n",
    "\n",
    "%matplotlib inline"
   ]
  },
  {
   "cell_type": "markdown",
   "metadata": {},
   "source": [
    "## Variáveis aleatórias usando NumPy"
   ]
  },
  {
   "cell_type": "code",
   "execution_count": 2,
   "metadata": {},
   "outputs": [
    {
     "data": {
      "text/plain": [
       "array([ 0.83271101, -0.11473949, -0.11473949, -1.33444771,  0.19542732,\n",
       "        0.80710306,  0.1307195 , -0.45470671,  0.48550899, -0.83315063,\n",
       "        1.37475798, -0.91438631,  0.40322233, -1.95677698, -0.03110505,\n",
       "        0.48274222, -0.45840284,  0.63534483,  0.80710306, -0.9564905 ,\n",
       "        0.69505245, -1.55311767, -0.11473949,  0.7777047 , -0.40053181,\n",
       "        0.51946184, -1.94374734, -1.15714805,  0.39916973, -1.36360073,\n",
       "        0.29803103, -1.67149212,  1.15091855,  0.63534483, -0.18567877,\n",
       "       -1.67149212, -0.40053181, -0.28118762, -1.94374734, -2.34803954,\n",
       "        1.63570551, -0.40131191, -0.53468908, -1.67149212,  0.18877212,\n",
       "       -2.34803954,  0.40697702, -0.40053181, -0.24858427, -0.78148397,\n",
       "        0.05317144,  2.16612275, -1.94374734, -1.33444771, -0.40131191,\n",
       "        0.85474965, -1.33444771,  2.16612275, -0.69032144, -0.20102619,\n",
       "       -1.91297879, -0.9564905 , -1.55311767, -0.39849979, -0.39849979,\n",
       "        0.016712  , -0.18567877,  0.96681817,  0.2319274 ,  0.45529921,\n",
       "       -0.03836276,  0.48550899,  0.1307195 , -0.83315063,  0.81031628,\n",
       "       -1.07743398, -1.07743398, -1.62883054, -0.36853542,  0.40697702,\n",
       "        0.68482134,  0.90510738,  0.96681817,  1.66107926, -1.95677698,\n",
       "       -0.79497496,  0.51946184,  1.37475798, -2.34803954, -0.69032144,\n",
       "       -0.18567877,  0.81031628, -0.40053181, -1.55311767,  0.90510738,\n",
       "        0.18877212, -0.79497496, -0.83315063, -1.2855852 ,  1.86911022])"
      ]
     },
     "execution_count": 2,
     "metadata": {},
     "output_type": "execute_result"
    }
   ],
   "source": [
    "np.random.seed(999)\n",
    "\n",
    "np.random.binomial(n=10, p=0.5, size=100)\n",
    "np.random.poisson(lam=0.5, size=100)\n",
    "\n",
    "np.random.uniform(size=100)\n",
    "np.random.triangular(left=1, mode=2, right=3, size=100)\n",
    "np.random.normal()\n",
    "np.random.lognormal()\n",
    "\n",
    "np.random.randn(1) # normal\n",
    "np.random.randint(low=1, high=100) # inteiros\n",
    "np.random.sample(size=100) # uniforme\n",
    "np.random.choice(np.random.normal(size=100), size=100)"
   ]
  },
  {
   "cell_type": "code",
   "execution_count": 3,
   "metadata": {},
   "outputs": [],
   "source": [
    "media = 1\n",
    "desvio_padrao = 0.1\n",
    "num_repeticoes = 500\n",
    "num_simulacoes = 1000"
   ]
  },
  {
   "cell_type": "code",
   "execution_count": 4,
   "metadata": {},
   "outputs": [
    {
     "data": {
      "text/plain": [
       "(array([  4.,   8.,  28.,  77., 103., 111.,  99.,  49.,  17.,   4.]),\n",
       " array([0.67 , 0.733, 0.796, 0.859, 0.922, 0.985, 1.048, 1.111, 1.174,\n",
       "        1.237, 1.3  ]),\n",
       " <a list of 10 Patch objects>)"
      ]
     },
     "execution_count": 4,
     "metadata": {},
     "output_type": "execute_result"
    },
    {
     "data": {
      "image/png": "[encoded data removed]",
      "text/plain": [
       "<Figure size 432x288 with 1 Axes>"
      ]
     },
     "metadata": {
      "needs_background": "light"
     },
     "output_type": "display_data"
    }
   ],
   "source": [
    "dist_normal = np.random.normal(media, desvio_padrao, num_repeticoes).round(2)\n",
    "\n",
    "plt.hist(dist_normal)"
   ]
  },
  {
   "cell_type": "markdown",
   "metadata": {},
   "source": [
    "## Monte Carlo usando NumPy"
   ]
  },
  {
   "cell_type": "code",
   "execution_count": 5,
   "metadata": {},
   "outputs": [],
   "source": [
    "statistics = []\n",
    "lista = []\n",
    "for i in range(num_simulacoes):\n",
    "    amostra_normal = np.random.choice(dist_normal)\n",
    "    statistics.append(amostra_normal)\n",
    "    \n",
    "    num_aleat = np.random.sample()\n",
    "    lista.append(num_aleat)\n"
   ]
  },
  {
   "cell_type": "code",
   "execution_count": 6,
   "metadata": {},
   "outputs": [
    {
     "data": {
      "text/plain": [
       "(array([  6.,  17.,  56., 156., 216., 226., 204.,  83.,  31.,   5.]),\n",
       " array([0.67 , 0.733, 0.796, 0.859, 0.922, 0.985, 1.048, 1.111, 1.174,\n",
       "        1.237, 1.3  ]),\n",
       " <a list of 10 Patch objects>)"
      ]
     },
     "execution_count": 6,
     "metadata": {},
     "output_type": "execute_result"
    },
    {
     "data": {
      "image/png": "[encoded data removed]",
      "text/plain": [
       "<Figure size 432x288 with 1 Axes>"
      ]
     },
     "metadata": {
      "needs_background": "light"
     },
     "output_type": "display_data"
    }
   ],
   "source": [
    "plt.hist(statistics)"
   ]
  },
  {
   "cell_type": "code",
   "execution_count": 7,
   "metadata": {},
   "outputs": [
    {
     "data": {
      "text/plain": [
       "(array([112., 113.,  97., 106., 120.,  92.,  87.,  85.,  94.,  94.]),\n",
       " array([6.84438380e-04, 1.00613495e-01, 2.00542552e-01, 3.00471609e-01,\n",
       "        4.00400665e-01, 5.00329722e-01, 6.00258779e-01, 7.00187836e-01,\n",
       "        8.00116892e-01, 9.00045949e-01, 9.99975006e-01]),\n",
       " <a list of 10 Patch objects>)"
      ]
     },
     "execution_count": 7,
     "metadata": {},
     "output_type": "execute_result"
    },
    {
     "data": {
      "image/png": "[encoded data removed]",
      "text/plain": [
       "<Figure size 432x288 with 1 Axes>"
      ]
     },
     "metadata": {
      "needs_background": "light"
     },
     "output_type": "display_data"
    }
   ],
   "source": [
    "plt.hist(lista)"
   ]
  },
  {
   "cell_type": "markdown",
   "metadata": {},
   "source": [
    "## Variáveis aleatórias usando SciPy"
   ]
  },
  {
   "cell_type": "code",
   "execution_count": 8,
   "metadata": {},
   "outputs": [],
   "source": [
    "b = stats.bernoulli(p=0.4)"
   ]
  },
  {
   "cell_type": "code",
   "execution_count": 9,
   "metadata": {},
   "outputs": [],
   "source": [
    "x = stats.poisson(3.5)\n",
    "n = np.arange(0, 15)"
   ]
  },
  {
   "cell_type": "code",
   "execution_count": 10,
   "metadata": {},
   "outputs": [
    {
     "data": {
      "text/plain": [
       "array([3])"
      ]
     },
     "execution_count": 10,
     "metadata": {},
     "output_type": "execute_result"
    }
   ],
   "source": [
    "x.rvs(1)"
   ]
  },
  {
   "cell_type": "code",
   "execution_count": 11,
   "metadata": {},
   "outputs": [
    {
     "data": {
      "text/plain": [
       "(array([ 35., 104., 195., 208., 180., 144.,  78.,  32.,  17.,   7.]),\n",
       " array([ 0.,  1.,  2.,  3.,  4.,  5.,  6.,  7.,  8.,  9., 10.]),\n",
       " <a list of 10 Patch objects>)"
      ]
     },
     "execution_count": 11,
     "metadata": {},
     "output_type": "execute_result"
    },
    {
     "data": {
      "image/png": "[encoded data removed]",
      "text/plain": [
       "<Figure size 432x288 with 1 Axes>"
      ]
     },
     "metadata": {
      "needs_background": "light"
     },
     "output_type": "display_data"
    }
   ],
   "source": [
    "plt.hist(x.rvs(1000))"
   ]
  },
  {
   "cell_type": "code",
   "execution_count": 12,
   "metadata": {},
   "outputs": [
    {
     "data": {
      "text/plain": [
       "[<matplotlib.lines.Line2D at 0x7fc78ae55df0>]"
      ]
     },
     "execution_count": 12,
     "metadata": {},
     "output_type": "execute_result"
    },
    {
     "data": {
      "image/png": "[encoded data removed]",
      "text/plain": [
       "<Figure size 432x288 with 1 Axes>"
      ]
     },
     "metadata": {
      "needs_background": "light"
     },
     "output_type": "display_data"
    }
   ],
   "source": [
    "plt.step(n, x.pmf(n))"
   ]
  },
  {
   "cell_type": "code",
   "execution_count": 13,
   "metadata": {},
   "outputs": [
    {
     "data": {
      "text/plain": [
       "[<matplotlib.lines.Line2D at 0x7fc78adae910>]"
      ]
     },
     "execution_count": 13,
     "metadata": {},
     "output_type": "execute_result"
    },
    {
     "data": {
      "image/png": "[encoded data removed]",
      "text/plain": [
       "<Figure size 432x288 with 1 Axes>"
      ]
     },
     "metadata": {
      "needs_background": "light"
     },
     "output_type": "display_data"
    }
   ],
   "source": [
    "plt.step(n, x.cdf(n))"
   ]
  },
  {
   "cell_type": "code",
   "execution_count": 14,
   "metadata": {},
   "outputs": [
    {
     "data": {
      "text/plain": [
       "(3.5, 1.8708286933869707, 3.5)"
      ]
     },
     "execution_count": 14,
     "metadata": {},
     "output_type": "execute_result"
    }
   ],
   "source": [
    "x.mean(), x.std(), x.var()"
   ]
  },
  {
   "cell_type": "code",
   "execution_count": 15,
   "metadata": {
    "scrolled": true
   },
   "outputs": [
    {
     "data": {
      "text/plain": [
       "(array([ 10.,  35., 116., 217., 267., 193., 105.,  46.,   9.,   2.]),\n",
       " array([0. , 0.9, 1.8, 2.7, 3.6, 4.5, 5.4, 6.3, 7.2, 8.1, 9. ]),\n",
       " <a list of 10 Patch objects>)"
      ]
     },
     "execution_count": 15,
     "metadata": {},
     "output_type": "execute_result"
    },
    {
     "data": {
      "image/png": "[encoded data removed]",
      "text/plain": [
       "<Figure size 432x288 with 3 Axes>"
      ]
     },
     "metadata": {
      "needs_background": "light"
     },
     "output_type": "display_data"
    }
   ],
   "source": [
    "B = stats.binom(n=10, p=0.4)\n",
    "\n",
    "n = np.arange(11)\n",
    "\n",
    "fig, axes = plt.subplots(3, 1, sharex=True)\n",
    "axes[0].step(n, B.pmf(n))\n",
    "axes[1].step(n, B.cdf(n))\n",
    "axes[2].hist(B.rvs(size=1000))"
   ]
  },
  {
   "cell_type": "code",
   "execution_count": 16,
   "metadata": {},
   "outputs": [
    {
     "data": {
      "text/plain": [
       "(array([  5.,  28.,  70., 137., 225., 226., 178.,  88.,  33.,  10.]),\n",
       " array([-3.09940069, -2.50217472, -1.90494876, -1.3077228 , -0.71049683,\n",
       "        -0.11327087,  0.4839551 ,  1.08118106,  1.67840703,  2.27563299,\n",
       "         2.87285896]),\n",
       " <a list of 10 Patch objects>)"
      ]
     },
     "execution_count": 16,
     "metadata": {},
     "output_type": "execute_result"
    },
    {
     "data": {
      "image/png": "[encoded data removed]",
      "text/plain": [
       "<Figure size 432x288 with 3 Axes>"
      ]
     },
     "metadata": {
      "needs_background": "light"
     },
     "output_type": "display_data"
    }
   ],
   "source": [
    "Z = stats.norm()\n",
    "\n",
    "x = np.linspace(-4, 4, 100)\n",
    "fig, axes = plt.subplots(3, 1, sharex=True)\n",
    "axes[0].plot(x, Z.pdf(x))\n",
    "axes[1].plot(x, Z.cdf(x))\n",
    "axes[2].hist(Z.rvs(size=1000))"
   ]
  },
  {
   "cell_type": "code",
   "execution_count": 17,
   "metadata": {},
   "outputs": [
    {
     "data": {
      "text/plain": [
       "(0.0, 1.0, 1.0)"
      ]
     },
     "execution_count": 17,
     "metadata": {},
     "output_type": "execute_result"
    }
   ],
   "source": [
    "Z.mean(), Z.std(), Z.var()"
   ]
  },
  {
   "cell_type": "code",
   "execution_count": 18,
   "metadata": {},
   "outputs": [
    {
     "data": {
      "text/plain": [
       "2.3263478740408408"
      ]
     },
     "execution_count": 18,
     "metadata": {},
     "output_type": "execute_result"
    }
   ],
   "source": [
    "Z.ppf(0.99)"
   ]
  },
  {
   "cell_type": "code",
   "execution_count": 19,
   "metadata": {},
   "outputs": [
    {
     "data": {
      "image/png": "[encoded data removed]",
      "text/plain": [
       "<Figure size 432x288 with 1 Axes>"
      ]
     },
     "metadata": {
      "needs_background": "light"
     },
     "output_type": "display_data"
    }
   ],
   "source": [
    "p25, p75 = Z.ppf([0.10, 0.90])\n",
    "\n",
    "plt.hist(Z.rvs(1000), bins=20, cumulative=True, density=True, align='right')\n",
    "plt.axvline(p25, color='r')\n",
    "plt.axvline(p75, color='r')\n",
    "plt.xlabel('bins')\n",
    "plt.ylabel('cumulative number of data points');"
   ]
  },
  {
   "cell_type": "code",
   "execution_count": 20,
   "metadata": {},
   "outputs": [
    {
     "data": {
      "text/plain": [
       "(1.005012520859401, 0.10075302944620396, 0.010151172942587642)"
      ]
     },
     "execution_count": 20,
     "metadata": {},
     "output_type": "execute_result"
    }
   ],
   "source": [
    "U = stats.uniform()\n",
    "\n",
    "L = stats.lognorm(s=0.1)\n",
    "L_mean, L_var, L_skew, L_kurt = L.stats(moments='mvsk')\n",
    "L.mean(), L.std(), L.var()"
   ]
  },
  {
   "cell_type": "code",
   "execution_count": 21,
   "metadata": {},
   "outputs": [
    {
     "data": {
      "image/png": "[encoded data removed]",
      "text/plain": [
       "<Figure size 432x288 with 1 Axes>"
      ]
     },
     "metadata": {
      "needs_background": "light"
     },
     "output_type": "display_data"
    }
   ],
   "source": [
    "p10, p90 = L.ppf([0.10, 0.90])\n",
    "\n",
    "plt.hist(L.rvs(1000), bins=50, cumulative=False, density=True, align='right')\n",
    "plt.axvline(p10, color='r')\n",
    "plt.axvline(p90, color='r')\n",
    "plt.xlabel('bins')\n",
    "plt.ylabel('cumulative number of data points');"
   ]
  },
  {
   "cell_type": "markdown",
   "metadata": {},
   "source": [
    "## Funções do SciPy"
   ]
  },
  {
   "cell_type": "markdown",
   "metadata": {},
   "source": [
    "stats.describe()\n",
    "stats.gmean()\n",
    "stats.hmean()\n",
    "stats.kurtosis()\n",
    "stats.mode()\n",
    "stats.skew()\n",
    "stats.kstat()\n",
    "stats.iqr()\n",
    "\n",
    "stats.cumfreq()\n",
    "\n",
    "stats.percentileofscore()\n",
    "stats.scoreatpercentile()\n",
    "\n",
    "stats.binned_statistic()\n",
    "\n",
    "stats.pearsonr()\n",
    "stats.spearmanr()\n",
    "stats.linregress()\n",
    "\n",
    "stats.normaltest()\n",
    "stats.median_test()\n",
    "\n",
    "stats.zscore()\n",
    "\n",
    "stats.wasserstein_distance()\n",
    "\n",
    "stats.rvs_ratio_uniforms()"
   ]
  },
  {
   "cell_type": "code",
   "execution_count": 22,
   "metadata": {},
   "outputs": [
    {
     "data": {
      "text/plain": [
       "array([1.08200255, 1.2326025 , 0.92310623, 1.08678629, 1.14341901,\n",
       "       1.01382543, 1.19021655, 1.17029898, 0.98090269, 0.97035161,\n",
       "       0.85857171, 1.07661808, 0.98945584, 1.24881188, 1.01118199,\n",
       "       0.98082493, 1.09315892, 0.83552749, 1.1077974 , 0.84313948,\n",
       "       1.19890409, 0.99685953, 0.98088047, 1.06682352, 0.99722151,\n",
       "       1.0080787 , 0.95601627, 0.91024938, 0.97428023, 1.035254  ,\n",
       "       0.83939032, 1.11995824, 1.01667516, 1.01584946, 1.06607316,\n",
       "       1.11045933, 1.10277829, 1.02438847, 0.96299484, 0.95967662,\n",
       "       0.82983318, 1.10791419, 0.97562556, 1.02545737, 1.00431356,\n",
       "       1.01989692, 1.16212143, 0.88549618, 0.90609799, 0.90453782,\n",
       "       1.07543239, 1.00820085, 0.97830698, 1.25812951, 1.11873587,\n",
       "       0.96158766, 0.9561165 , 1.1497916 , 1.15512336, 1.03660734,\n",
       "       0.80720807, 1.13619432, 0.99071677, 1.04677907, 1.01739442,\n",
       "       0.88822005, 1.07540594, 1.02441955, 1.09952049, 0.89562793,\n",
       "       0.90091558, 1.02888983, 0.93620887, 1.02175976, 1.03112909,\n",
       "       0.7792626 , 0.84271743, 0.98664965, 1.1316703 , 0.98898546,\n",
       "       0.9019996 , 0.85201358, 1.17350749, 1.02953189, 1.04803385,\n",
       "       1.15950915, 0.97774091, 0.94385823, 0.80680591, 0.97228083,\n",
       "       1.11601634, 0.96827639, 1.07078596, 0.92246127, 0.92275421,\n",
       "       1.3008397 , 0.89408561, 1.08841229, 1.08128226, 1.08775793,\n",
       "       1.20728299, 0.94883677, 0.9798654 , 1.16458142, 1.0708052 ,\n",
       "       1.02032267, 0.95610815, 0.94834889, 1.08545299, 1.10728493,\n",
       "       0.97165372, 0.88034567, 0.99729856, 0.89914789, 0.99024022,\n",
       "       1.12658039, 1.12678228, 1.06394834, 0.92886556, 0.99579206,\n",
       "       1.10836012, 1.04088955, 0.90539885, 0.91183258, 0.83670529,\n",
       "       1.05172717, 0.91738736, 1.02950393, 0.97272541, 1.09675171,\n",
       "       0.9827761 , 1.08727272, 1.05717905, 0.88726693, 0.93770135,\n",
       "       1.1332128 , 1.15646034, 0.89565842, 1.21024432, 0.98267053,\n",
       "       0.97494022, 0.91848326, 1.06333736, 0.87690187, 0.96096493,\n",
       "       1.10133435, 1.14309795, 1.0156693 , 0.95081681, 0.886426  ,\n",
       "       1.1139637 , 1.06076779, 1.09972572, 1.10168981, 0.99120117,\n",
       "       0.97377586, 0.99688953, 1.02255818, 1.18968346, 1.01662226,\n",
       "       1.05887192, 0.99937755, 0.94507093, 0.95809226, 1.01505969,\n",
       "       1.14390017, 1.0979896 , 0.99587852, 1.03652885, 1.11799392,\n",
       "       0.93416528, 0.95260692, 0.96481161, 0.94080916, 1.03023973,\n",
       "       0.96952877, 0.94746368, 1.09928483, 1.07370354, 1.01573193,\n",
       "       0.87011107, 1.0152918 , 0.97249221, 0.90895234, 1.09329924,\n",
       "       0.99599195, 1.0688273 , 1.02769527, 1.25698354, 0.96223202,\n",
       "       0.93320382, 1.07858063, 1.02031401, 0.92618306, 0.85419458,\n",
       "       0.97294508, 1.20664467, 0.87860183, 1.14081123, 0.9687646 ,\n",
       "       1.01958005, 0.96416889, 0.95626221, 1.01646098, 1.16893159,\n",
       "       0.9723189 , 0.84206956, 0.97851432, 1.07158683, 0.86968484,\n",
       "       0.99267241, 0.88482768, 0.79855367, 1.02096966, 0.99132063,\n",
       "       1.06172164, 1.05058843, 0.85451074, 0.89796671, 1.05835686,\n",
       "       1.10759949, 1.01475878, 1.24307725, 0.99274167, 0.96385054,\n",
       "       1.05907444, 0.96814417, 1.15937462, 1.01936641, 0.9491757 ,\n",
       "       1.0415473 , 1.0451266 , 0.92355945, 1.0765234 , 1.10731057,\n",
       "       0.89959026, 0.9734801 , 1.15583043, 0.96412304, 0.99408879,\n",
       "       0.86300987, 0.98993234, 0.98792165, 1.02480633, 0.96459183,\n",
       "       0.94093229, 1.09091038, 0.95608122, 1.20455418, 0.97869717,\n",
       "       1.10534479, 0.88824146, 0.97208963, 1.10971651, 0.79953966,\n",
       "       0.8849787 , 1.09120907, 0.97939664, 1.10975954, 1.15030558,\n",
       "       1.06734167, 0.87539634, 1.0328425 , 1.04047479, 1.12949706,\n",
       "       0.91544038, 1.05626515, 1.02172402, 1.17075848, 1.14036893,\n",
       "       0.99022714, 1.24946167, 0.86496095, 0.98766371, 1.22166111,\n",
       "       0.89395588, 1.11123849, 1.02442766, 1.01142161, 1.05684351,\n",
       "       1.01390773, 0.92425301, 1.02710763, 0.97388443, 0.94860335,\n",
       "       1.14191852, 1.01124251, 1.06272947, 1.0160882 , 0.9805066 ,\n",
       "       0.85469633, 1.04279637, 1.04701886, 1.27229524, 0.95917423,\n",
       "       0.97376756, 0.95158459, 1.02665969, 1.0247178 , 0.96475001,\n",
       "       1.05314711, 1.06004476, 0.85348957, 1.11406598, 0.96413148,\n",
       "       1.13209847, 0.80492208, 1.03890526, 1.10274497, 0.87930734,\n",
       "       1.07629222, 0.95583066, 1.05396928, 0.87048709, 1.03175141,\n",
       "       0.97551999, 1.23174294, 0.94886884, 0.93283322, 0.73650644,\n",
       "       0.88805142, 0.97350614, 0.98686043, 1.10016051, 0.85796612,\n",
       "       1.18516246, 0.92786783, 0.97351414, 0.91897777, 1.14206106,\n",
       "       1.12840145, 1.06372857, 0.81141325, 1.0351346 , 1.00252672,\n",
       "       1.15724566, 1.15881036, 1.01630714, 1.00336771, 0.98732307,\n",
       "       0.97730214, 1.09198105, 0.9036273 , 1.1476209 , 0.99904406,\n",
       "       0.94922462, 0.97005442, 0.92506371, 1.0495819 , 1.14723212,\n",
       "       1.01755646, 1.0749475 , 0.89045639, 0.846386  , 1.17414494,\n",
       "       1.02268081, 0.88393736, 1.03076119, 1.02129052, 0.90010652,\n",
       "       1.23414155, 0.8046691 , 1.10796774, 0.91581127, 1.03502773,\n",
       "       0.91934555, 0.9601003 , 1.10412182, 0.95812498, 0.93065388,\n",
       "       0.92012446, 0.96749195, 0.94818218, 0.9941297 , 1.12157787,\n",
       "       0.86228551, 1.04995672, 1.10403567, 0.94806706, 0.72901515,\n",
       "       0.99406004, 1.01138357, 1.05610302, 1.20312677, 1.02698291,\n",
       "       0.93206097, 1.02604442, 0.85135732, 1.18716221, 0.93733175,\n",
       "       0.84115972, 1.19471532, 0.92472206, 1.03883849, 0.91032087,\n",
       "       0.85673736, 0.98077341, 0.95814709, 1.06445046, 1.16540953,\n",
       "       0.91439315, 0.92299158, 0.94900683, 1.1223934 , 0.93119847,\n",
       "       0.89184344, 0.92736175, 1.09694083, 1.00798546, 0.85880247,\n",
       "       0.90060861, 1.04495614, 0.95048179, 0.90650004, 0.96092044,\n",
       "       0.74757988, 1.05362936, 1.03699629, 1.14367759, 1.07056229,\n",
       "       0.89850223, 1.08779159, 0.78790933, 1.01107323, 0.74295079,\n",
       "       0.89800376, 1.05232046, 1.33725479, 0.90101747, 1.02248222,\n",
       "       1.07812509, 0.9220579 , 0.85866454, 1.10408718, 0.90395419,\n",
       "       0.89449305, 0.95818201, 1.14518092, 0.9203951 , 1.18127644,\n",
       "       1.03820203, 0.93617173, 0.89129539, 1.02506145, 1.00040203,\n",
       "       0.94943077, 1.03721631, 0.94808119, 1.0326928 , 1.12933957,\n",
       "       0.9314654 , 0.96343709, 1.19542978, 0.94947672, 1.12633483,\n",
       "       0.90227217, 1.08732547, 1.02102393, 0.92097033, 1.07884405,\n",
       "       0.86619973, 1.02120977, 0.85321627, 1.19804349, 0.84430295,\n",
       "       1.13733818, 0.87826563, 1.14955098, 0.99856454, 1.2027999 ,\n",
       "       1.1238118 , 1.14779946, 0.95043113, 1.07332501, 1.18270134,\n",
       "       0.94322348, 1.12880377, 0.92586621, 0.90535333, 0.9321383 ,\n",
       "       1.05197079, 0.84976565, 1.04542461, 1.01896325, 1.04478279,\n",
       "       0.88911659, 1.03130858, 1.11845403, 0.99215121, 1.06823092,\n",
       "       1.09324956, 1.0324451 , 0.97938042, 0.98798263, 0.99562664,\n",
       "       0.9580975 , 1.06783418, 0.9001467 , 0.99120923, 1.04919663,\n",
       "       1.00416066, 1.0089128 , 1.14953711, 1.02661686, 0.94222019,\n",
       "       0.92012404, 1.02603339, 0.76341757, 1.01452355, 1.01316048,\n",
       "       0.92248951, 0.85131883, 1.21116965, 0.91891023, 1.00771394,\n",
       "       0.98489871, 0.9636963 , 1.06924793, 0.94331481, 1.13336357,\n",
       "       1.0854872 , 1.07234377, 1.02922667, 0.8609838 , 0.95878386,\n",
       "       0.99974721, 0.86393693, 1.01329233, 0.95874388, 1.15584547,\n",
       "       1.05182953, 0.98470113, 0.98673233, 0.97289592, 0.85471715,\n",
       "       0.90471078, 1.12062586, 1.03640493, 0.86880799, 1.11078916,\n",
       "       0.94378015, 0.9261676 , 1.06939966, 1.0913538 , 1.1985647 ,\n",
       "       0.79380952, 0.84232803, 0.96264226, 1.08222946, 1.03036991,\n",
       "       1.02138046, 0.91811698, 1.10774938, 1.05495289, 0.89235986,\n",
       "       1.01325758, 1.0531461 , 0.90182387, 0.93560653, 1.10110054,\n",
       "       0.95721466, 1.07328887, 0.96772105, 0.94023739, 0.94487162,\n",
       "       1.04822246, 0.94120432, 1.05074348, 0.90920072, 1.1942458 ,\n",
       "       0.82518582, 0.90112414, 1.00412502, 1.05840115, 0.97536683,\n",
       "       1.07265159, 1.15743886, 1.04513962, 0.97400352, 1.08239297,\n",
       "       0.84972808, 1.08396552, 0.96789583, 0.84574308, 0.88467812,\n",
       "       0.95562126, 1.08941317, 1.10193016, 1.08025441, 0.96877599,\n",
       "       1.11826852, 0.90865954, 1.00792094, 0.95915743, 0.92083151,\n",
       "       0.95968774, 0.95594799, 1.10668533, 0.90560282, 1.05708865,\n",
       "       1.01734097, 1.00359024, 0.95060492, 0.85354554, 0.97716518,\n",
       "       0.93912636, 1.02519718, 0.88975437, 0.93697958, 1.00076118,\n",
       "       1.04198945, 1.13061528, 0.97743152, 0.87573326, 0.96545564,\n",
       "       1.15682441, 0.99469719, 0.91757605, 1.02380161, 1.18579824,\n",
       "       1.06770556, 0.92823184, 0.86828095, 1.1240975 , 1.27011533,\n",
       "       0.831004  , 0.93982235, 1.11781504, 0.96001412, 0.99795234,\n",
       "       0.84896514, 0.98004488, 0.97667013, 0.90178196, 1.12995687,\n",
       "       1.03041015, 0.93968044, 0.94307852, 0.86158275, 0.98678163,\n",
       "       0.83772441, 0.91369499, 1.11483566, 0.99593393, 1.13032925,\n",
       "       1.04572122, 0.92771643, 0.97159808, 1.02222754, 0.90942429,\n",
       "       0.98746719, 1.00982532, 1.01611927, 1.05823611, 1.01029983,\n",
       "       0.99253913, 1.04220975, 1.04879683, 0.95420908, 0.96843375,\n",
       "       0.88128337, 0.92171246, 0.86361459, 0.88987307, 1.01212925,\n",
       "       0.91011657, 0.94318573, 0.98709317, 1.0592784 , 0.9601099 ,\n",
       "       0.956133  , 0.94226881, 0.93219424, 0.96313554, 0.99605074,\n",
       "       0.94569188, 0.97628907, 1.17492843, 1.0049285 , 0.96749746,\n",
       "       0.97811649, 0.98666269, 0.93402575, 1.02669298, 1.04085314,\n",
       "       0.95961648, 1.00513152, 0.92815277, 1.04485586, 1.12438623,\n",
       "       0.95326516, 0.99656673, 1.04296124, 0.839206  , 0.78671351,\n",
       "       1.0162404 , 0.91917091, 0.96048875, 1.01832688, 1.0717549 ,\n",
       "       0.94987174, 0.9267718 , 0.86472802, 1.11559231, 0.96825672,\n",
       "       0.96454464, 1.13142544, 0.97924417, 0.91312539, 1.17179447,\n",
       "       0.98722799, 0.95719378, 0.92046257, 1.0729045 , 0.92201017,\n",
       "       1.02143787, 0.93667677, 0.91601001, 1.02081668, 1.05454355,\n",
       "       1.01230241, 0.93505462, 0.94266531, 0.95755805, 0.9428155 ,\n",
       "       0.97290221, 1.06003165, 1.12122636, 1.01792722, 0.96032005,\n",
       "       1.07148092, 0.9077387 , 0.92118524, 0.88971245, 1.09221647,\n",
       "       0.85253101, 0.99431569, 0.96985319, 1.03865534, 1.15669304,\n",
       "       1.11746636, 0.97739358, 1.18623843, 0.9464646 , 0.88916879,\n",
       "       0.82317836, 0.97814287, 0.98542351, 1.24636527, 0.97322622,\n",
       "       0.98098578, 1.08704305, 1.12621534, 1.19229682, 1.2467321 ,\n",
       "       0.85263469, 1.07767867, 0.91735054, 0.96206305, 1.27264615,\n",
       "       0.90220778, 1.0032793 , 0.88636175, 0.90051522, 1.11758181,\n",
       "       1.01378414, 1.02082353, 1.1494456 , 1.03909107, 1.0214844 ,\n",
       "       1.27418958, 0.87974405, 0.78414638, 1.25589618, 0.94332665,\n",
       "       1.03875548, 0.93144644, 0.97112457, 1.03231076, 1.04380158,\n",
       "       0.98792876, 1.0978149 , 1.25647561, 0.97383922, 0.90969707,\n",
       "       1.10621288, 0.86763597, 1.04091007, 0.85488982, 1.01966374,\n",
       "       0.84766232, 0.95345688, 1.12173265, 1.02341407, 0.77536889,\n",
       "       0.94523195, 1.07171966, 0.94365831, 0.95389915, 1.03322607,\n",
       "       1.09765307, 1.18707416, 1.10056198, 1.10155806, 0.95885827,\n",
       "       0.89553626, 0.94500967, 0.99066748, 1.0517905 , 1.25891399,\n",
       "       1.1171341 , 0.99441143, 1.04419993, 1.01074821, 0.98331335,\n",
       "       1.07209488, 0.98466138, 0.89953274, 1.05208013, 1.0394463 ,\n",
       "       1.04938176, 1.18483245, 0.96745246, 0.91897698, 1.03200869,\n",
       "       1.14477514, 1.02822667, 1.0160946 , 1.14540426, 0.93342168,\n",
       "       1.06221065, 0.92724636, 1.15099225, 1.13732299, 1.1425513 ,\n",
       "       1.00253451, 0.88738167, 0.95510557, 0.86899372, 0.87519595,\n",
       "       0.86504523, 0.97587969, 1.14696315, 0.96165451, 1.29216593,\n",
       "       1.1613111 , 0.96492082, 1.06569244, 0.84784265, 1.03591464,\n",
       "       1.03436119, 0.88282925, 1.06612346, 1.04493132, 0.95807897,\n",
       "       0.88307675, 1.13925889, 0.98314818, 1.0582022 , 0.97951311,\n",
       "       0.91707076, 0.93688765, 1.06062474, 1.00326644, 1.09029381,\n",
       "       1.2072581 , 1.03944286, 0.97121621, 1.07980133, 1.20103672,\n",
       "       1.17144189, 1.0608869 , 1.08274982, 1.11107098, 0.84699881,\n",
       "       0.97343963, 0.93628942, 1.04243399, 1.00336044, 0.96765953,\n",
       "       1.05555465, 0.94934153, 1.04424706, 0.85339373, 1.14676164,\n",
       "       0.95927861, 0.88924313, 1.01888484, 0.80003855, 0.99417865,\n",
       "       1.27657634, 0.94107916, 1.00364077, 1.03008283, 1.04302945,\n",
       "       0.82209768, 1.07753311, 0.98378425, 1.02567706, 0.83983631,\n",
       "       0.90559197, 0.93461955, 0.93031141, 1.03983798, 0.95645388,\n",
       "       0.90641275, 1.0218708 , 0.9092255 , 1.13529215, 1.00989429,\n",
       "       0.93874838, 1.06579426, 0.90452842, 0.88720945, 1.1005468 ,\n",
       "       0.84342286, 0.88021113, 0.86774661, 1.05368598, 1.10622931,\n",
       "       0.97744103, 1.11743383, 1.05754498, 0.92166958, 0.99594752,\n",
       "       0.95991965, 1.05601122, 0.84615946, 1.01244127, 0.92099246,\n",
       "       0.92986034, 0.93666297, 0.87247382, 1.21319974, 1.05261944,\n",
       "       1.05558865, 0.93035979, 0.82009495, 1.09387455, 1.03129102,\n",
       "       1.07713416, 0.92264607, 1.07138875, 0.90878175, 1.04918229,\n",
       "       1.09557043, 0.91228902, 0.92640072, 0.89182879, 1.10998885,\n",
       "       0.93117516, 0.87336186, 0.98154575, 1.03976563, 1.03060344,\n",
       "       0.99097344, 1.08283337, 0.84260776, 0.8832612 , 1.06181141,\n",
       "       0.98955037, 0.86856641, 0.9618457 , 0.9298182 , 0.96618738,\n",
       "       1.03802607, 0.9899783 , 1.03413262, 0.9515087 , 1.04040287,\n",
       "       1.10873475, 1.01511409, 1.1088579 , 0.92143258, 1.03907318,\n",
       "       1.04967967, 1.06086357, 1.05625513, 0.86528951, 1.02208927,\n",
       "       1.0898914 , 1.22825624, 1.09627619, 0.89417776, 1.11729472,\n",
       "       0.9437851 , 1.05956495, 1.19344713, 0.93750027, 0.8994487 ,\n",
       "       0.90254009, 1.00609916, 0.92911869, 0.85945205, 1.11771865,\n",
       "       0.8954657 , 1.10131917, 0.95279521, 1.17120202, 0.89472951])"
      ]
     },
     "execution_count": 22,
     "metadata": {},
     "output_type": "execute_result"
    }
   ],
   "source": [
    "stats.rvs_ratio_uniforms(L.pdf, umax=10, vmin=0, vmax=10, size=1000)"
   ]
  },
  {
   "cell_type": "markdown",
   "metadata": {},
   "source": [
    "## Criando uma PERT"
   ]
  },
  {
   "cell_type": "code",
   "execution_count": 23,
   "metadata": {},
   "outputs": [],
   "source": [
    "x = np.arange(0.025, 60.025, 0.05)\n",
    "\n",
    "minimo = 0\n",
    "mode = 2\n",
    "maximo = 10\n",
    "d = (minimo + 4*mode + maximo)/6\n",
    "alpha = 6*((d-minimo)/(maximo-minimo))\n",
    "beta = 6*((maximo-d)/(maximo-minimo))\n",
    "scale = maximo - minimo\n",
    "loc = minimo\n",
    "\n",
    "pert = stats.beta(a=alpha, b=beta, loc=loc, scale=scale)"
   ]
  },
  {
   "cell_type": "code",
   "execution_count": 24,
   "metadata": {},
   "outputs": [
    {
     "data": {
      "image/png": "[encoded data removed]",
      "text/plain": [
       "<Figure size 432x288 with 1 Axes>"
      ]
     },
     "metadata": {
      "needs_background": "light"
     },
     "output_type": "display_data"
    }
   ],
   "source": [
    "p10, p90 = pert.ppf([0.10, 0.90])\n",
    "\n",
    "plt.hist(pert.rvs(40000), bins=100, cumulative=False, density=True, align='right')\n",
    "plt.axvline(p10, color='r')\n",
    "plt.axvline(p90, color='r')\n",
    "plt.xlabel('bins')\n",
    "plt.ylabel('cumulative number of data points');"
   ]
  },
  {
   "cell_type": "markdown",
   "metadata": {},
   "source": [
    "## Monte Carlo: amostragem com número aleatório usando NumPy"
   ]
  },
  {
   "cell_type": "code",
   "execution_count": 25,
   "metadata": {},
   "outputs": [
    {
     "data": {
      "text/plain": [
       "(array([3.167e+03, 5.320e+02, 1.700e+02, 6.800e+01, 3.300e+01, 1.100e+01,\n",
       "        3.000e+00, 3.000e+00, 6.000e+00, 7.000e+00]),\n",
       " array([1.62672114e+20, 1.15996778e+22, 2.30366834e+22, 3.44736891e+22,\n",
       "        4.59106947e+22, 5.73477004e+22, 6.87847061e+22, 8.02217117e+22,\n",
       "        9.16587174e+22, 1.03095723e+23, 1.14532729e+23]),\n",
       " <a list of 10 Patch objects>)"
      ]
     },
     "execution_count": 25,
     "metadata": {},
     "output_type": "execute_result"
    },
    {
     "data": {
      "image/png": "[encoded data removed]",
      "text/plain": [
       "<Figure size 432x288 with 1 Axes>"
      ]
     },
     "metadata": {
      "needs_background": "light"
     },
     "output_type": "display_data"
    }
   ],
   "source": [
    "np.random.seed(999)\n",
    "dist = np.random.lognormal(mean=50, sigma=1, size=1000)\n",
    "simulacoes = 4000\n",
    "resultado = []\n",
    "for i in np.arange(simulacoes):\n",
    "    num_aleat = np.random.random()\n",
    "    amostra = np.percentile(dist, num_aleat*100)\n",
    "    resultado.append(amostra)\n",
    "    \n",
    "plt.hist(resultado)"
   ]
  },
  {
   "cell_type": "markdown",
   "metadata": {},
   "source": [
    "## Monte Carlo: amostragem com número aleatório usando SciPy"
   ]
  },
  {
   "cell_type": "code",
   "execution_count": 26,
   "metadata": {},
   "outputs": [
    {
     "data": {
      "text/plain": [
       "(array([3.591e+03, 3.070e+02, 7.000e+01, 1.300e+01, 1.100e+01, 4.000e+00,\n",
       "        2.000e+00, 1.000e+00, 0.000e+00, 1.000e+00]),\n",
       " array([1.45283800e+20, 1.84856401e+22, 3.68259963e+22, 5.51663526e+22,\n",
       "        7.35067089e+22, 9.18470652e+22, 1.10187421e+23, 1.28527778e+23,\n",
       "        1.46868134e+23, 1.65208490e+23, 1.83548847e+23]),\n",
       " <a list of 10 Patch objects>)"
      ]
     },
     "execution_count": 26,
     "metadata": {},
     "output_type": "execute_result"
    },
    {
     "data": {
      "image/png": "[encoded data removed]",
      "text/plain": [
       "<Figure size 432x288 with 1 Axes>"
      ]
     },
     "metadata": {
      "needs_background": "light"
     },
     "output_type": "display_data"
    }
   ],
   "source": [
    "np.random.seed(999)\n",
    "dist = stats.lognorm(s=1, scale=np.exp(50))\n",
    "simulacoes = 4000\n",
    "resultado = []\n",
    "for i in np.arange(simulacoes):\n",
    "    num_aleat = stats.uniform().rvs(1)[0]\n",
    "    amostra = dist.ppf(num_aleat)\n",
    "    resultado.append(amostra)\n",
    "    \n",
    "plt.hist(resultado)"
   ]
  },
  {
   "cell_type": "markdown",
   "metadata": {},
   "source": [
    "## Adicionando correlação entre variáveis aleatórias"
   ]
  },
  {
   "cell_type": "code",
   "execution_count": 27,
   "metadata": {},
   "outputs": [
    {
     "data": {
      "image/png": "[encoded data removed]",
      "text/plain": [
       "<Figure size 432x288 with 3 Axes>"
      ]
     },
     "metadata": {
      "needs_background": "light"
     },
     "output_type": "display_data"
    }
   ],
   "source": [
    "\"\"\"Example of generating correlated normally distributed random samples.\"\"\"\n",
    "\n",
    "import numpy as np\n",
    "from scipy.linalg import eigh, cholesky\n",
    "from scipy.stats import norm\n",
    "\n",
    "from pylab import plot, show, axis, subplot, xlabel, ylabel, grid\n",
    "\n",
    "# Choice of cholesky or eigenvector method.\n",
    "method = 'cholesky'\n",
    "#method = 'eigenvectors'\n",
    "\n",
    "num_samples = 400\n",
    "\n",
    "# The desired covariance matrix.\n",
    "r = np.array([\n",
    "        [  3.40, -2.75, -2.00],\n",
    "        [ -2.75,  5.50,  1.50],\n",
    "        [ -2.00,  1.50,  1.25]\n",
    "    ])\n",
    "\n",
    "# Generate samples from three independent normally distributed random\n",
    "# variables (with mean 0 and std. dev. 1).\n",
    "x = norm.rvs(size=(3, num_samples))\n",
    "\n",
    "# We need a matrix `c` for which `c*c^T = r`.  We can use, for example,\n",
    "# the Cholesky decomposition, or the we can construct `c` from the\n",
    "# eigenvectors and eigenvalues.\n",
    "\n",
    "if method == 'cholesky':\n",
    "    # Compute the Cholesky decomposition.\n",
    "    c = cholesky(r, lower=True)\n",
    "else:\n",
    "    # Compute the eigenvalues and eigenvectors.\n",
    "    evals, evecs = eigh(r)\n",
    "    # Construct c, so c*c^T = r.\n",
    "    c = np.dot(evecs, np.diag(np.sqrt(evals)))\n",
    "\n",
    "# Convert the data to correlated random variables. \n",
    "y = np.dot(c, x)\n",
    "\n",
    "#\n",
    "# Plot various projections of the samples.\n",
    "#\n",
    "subplot(2,2,1)\n",
    "plot(y[0], y[1], 'b.')\n",
    "ylabel('y[1]')\n",
    "axis('equal')\n",
    "grid(True)\n",
    "\n",
    "subplot(2,2,3)\n",
    "plot(y[0], y[2], 'b.')\n",
    "xlabel('y[0]')\n",
    "ylabel('y[2]')\n",
    "axis('equal')\n",
    "grid(True)\n",
    "\n",
    "subplot(2,2,4)\n",
    "plot(y[1], y[2], 'b.')\n",
    "xlabel('y[1]')\n",
    "axis('equal')\n",
    "grid(True)\n",
    "\n",
    "show()"
   ]
  },
  {
   "cell_type": "markdown",
   "metadata": {},
   "source": [
    "## Funções para biblioteca de Monte Carlo"
   ]
  },
  {
   "cell_type": "code",
   "execution_count": 45,
   "metadata": {},
   "outputs": [],
   "source": [
    "def CriarDistribuicaoLognormal(p90, p10):\n",
    "    \n",
    "    \"\"\"\n",
    "    Documentação: \n",
    "    \"\"\"\n",
    "    \n",
    "    import copy\n",
    "    import numpy as np\n",
    "    from scipy import stats\n",
    "    \n",
    "    # calcula média da normal equivalente\n",
    "    mu = (np.log(p90) + np.log(p10)) / 2\n",
    "    \n",
    "    # calcula desvio padrão da normal equivalente\n",
    "    sigma = (np.log(p10)-mu) / 1.2815515655446\n",
    "    \n",
    "    # cria a distribuição usando o SciPy\n",
    "    dist = stats.lognorm(s=sigma, scale=np.exp(mu))\n",
    "    \n",
    "    return dist"
   ]
  },
  {
   "cell_type": "code",
   "execution_count": 69,
   "metadata": {},
   "outputs": [],
   "source": [
    "def VisualizarVA(dist, n=1000, p_low=90, p_up=10):\n",
    "    \n",
    "    \"\"\"\n",
    "    Documentação: \n",
    "    \"\"\"\n",
    "    \n",
    "    import copy\n",
    "    import numpy as np\n",
    "    from scipy import stats\n",
    "    \n",
    "    p1, p2 = np.percentile(dist.rvs(n), p_low), np.percentile(dist.rvs(n), p_up)\n",
    "    \n",
    "    plt.hist(dist.rvs(n), bins=20, cumulative=False, density=True, align='right')\n",
    "    plt.axvline(p1, color='r')\n",
    "    plt.axvline(p2, color='r')\n",
    "    plt.xlabel('classes')\n",
    "    plt.ylabel('probabilidade');"
   ]
  },
  {
   "cell_type": "code",
   "execution_count": 86,
   "metadata": {},
   "outputs": [],
   "source": [
    "def Amostrar(dict_of_dists):\n",
    "    \n",
    "    \"\"\"\n",
    "    Documentação: \n",
    "    \"\"\"\n",
    "    \n",
    "    import copy\n",
    "    import numpy as np\n",
    "    from scipy import stats\n",
    "    \n",
    "    amostras = {}\n",
    "    \n",
    "    for k, dist in dict_of_dists.items():\n",
    "        amostras[copy.copy(k)] = copy.copy(dist.rvs(1)[0])\n",
    "    \n",
    "    return amostras"
   ]
  },
  {
   "cell_type": "code",
   "execution_count": 129,
   "metadata": {},
   "outputs": [],
   "source": [
    "def Simulacao(dict_of_dists, funcao_consolida, n_iteracoes):\n",
    "    \n",
    "    \"\"\"\n",
    "    Documentação: \n",
    "    \"\"\"\n",
    "    \n",
    "    import copy\n",
    "    import numpy as np\n",
    "    from scipy import stats\n",
    "    \n",
    "    resultados = {}\n",
    "    for k in dict_of_dists.keys():\n",
    "        resultados[copy.copy(k)] = []\n",
    "    resultados['Consolidação'] = []\n",
    "    \n",
    "    for i in range(n_iteracoes):\n",
    "        \n",
    "        # amostra variáveis aleatórias\n",
    "        amostras = Amostrar(dict_of_dists)\n",
    "        \n",
    "        # avalia funcao de consolidacao\n",
    "        result = funcao_consolida(amostras)\n",
    "        \n",
    "        # guardar resultado\n",
    "        for k, v in amostras.items():\n",
    "            resultados[copy.copy(k)].append(v)\n",
    "        resultados['Consolidação'].append(copy.copy(result))\n",
    "        \n",
    "    return resultados"
   ]
  },
  {
   "cell_type": "code",
   "execution_count": 130,
   "metadata": {},
   "outputs": [],
   "source": [
    "dist1 = CriarDistribuicaoLognormal(10, 20)"
   ]
  },
  {
   "cell_type": "code",
   "execution_count": 131,
   "metadata": {},
   "outputs": [],
   "source": [
    "dist2 = CriarDistribuicaoLognormal(50, 90)"
   ]
  },
  {
   "cell_type": "code",
   "execution_count": 132,
   "metadata": {},
   "outputs": [
    {
     "data": {
      "image/png": "[encoded data removed]",
      "text/plain": [
       "<Figure size 432x288 with 1 Axes>"
      ]
     },
     "metadata": {
      "needs_background": "light"
     },
     "output_type": "display_data"
    }
   ],
   "source": [
    "VisualizarVA(dist1)"
   ]
  },
  {
   "cell_type": "code",
   "execution_count": 133,
   "metadata": {},
   "outputs": [
    {
     "data": {
      "image/png": "[encoded data removed]",
      "text/plain": [
       "<Figure size 432x288 with 1 Axes>"
      ]
     },
     "metadata": {
      "needs_background": "light"
     },
     "output_type": "display_data"
    }
   ],
   "source": [
    "VisualizarVA(dist2)"
   ]
  },
  {
   "cell_type": "code",
   "execution_count": 134,
   "metadata": {},
   "outputs": [],
   "source": [
    "dists = {'dist1': dist1,\n",
    "         'dist2': dist2}"
   ]
  },
  {
   "cell_type": "code",
   "execution_count": 135,
   "metadata": {},
   "outputs": [
    {
     "data": {
      "text/plain": [
       "{'dist1': 7.89440259484435, 'dist2': 65.43891887457148}"
      ]
     },
     "execution_count": 135,
     "metadata": {},
     "output_type": "execute_result"
    }
   ],
   "source": [
    "Amostrar(dists)"
   ]
  },
  {
   "cell_type": "code",
   "execution_count": 142,
   "metadata": {},
   "outputs": [],
   "source": [
    "def Soma(dict_of_variables):\n",
    "    import copy\n",
    "    result = 0\n",
    "    for it in dict_of_variables.values():\n",
    "        result += copy.copy(it)\n",
    "    return result"
   ]
  },
  {
   "cell_type": "code",
   "execution_count": 143,
   "metadata": {},
   "outputs": [],
   "source": [
    "res = Simulacao(dict_of_dists=dists, funcao_consolida=Soma, n_iteracoes=1000)"
   ]
  },
  {
   "cell_type": "code",
   "execution_count": 144,
   "metadata": {},
   "outputs": [
    {
     "data": {
      "text/plain": [
       "(array([ 64., 169., 264., 234., 149.,  77.,  28.,  10.,   2.,   3.]),\n",
       " array([ 50.4724425 ,  61.14111176,  71.80978101,  82.47845027,\n",
       "         93.14711953, 103.81578878, 114.48445804, 125.1531273 ,\n",
       "        135.82179655, 146.49046581, 157.15913507]),\n",
       " <a list of 10 Patch objects>)"
      ]
     },
     "execution_count": 144,
     "metadata": {},
     "output_type": "execute_result"
    },
    {
     "data": {
      "image/png": "[encoded data removed]",
      "text/plain": [
       "<Figure size 432x288 with 1 Axes>"
      ]
     },
     "metadata": {
      "needs_background": "light"
     },
     "output_type": "display_data"
    }
   ],
   "source": [
    "plt.hist(res['Consolidação'])"
   ]
  },
  {
   "cell_type": "code",
   "execution_count": 145,
   "metadata": {},
   "outputs": [],
   "source": [
    "def MinhaConsolidacao(dict_of_variables):\n",
    "    result = 0\n",
    "    result = dict_of_variables['dist1']+dict_of_variables['dist2']/(dict_of_variables['dist1']*dict_of_variables['dist2'])\n",
    "    return result"
   ]
  },
  {
   "cell_type": "code",
   "execution_count": 146,
   "metadata": {},
   "outputs": [],
   "source": [
    "res = Simulacao(dict_of_dists=dists, funcao_consolida=MinhaConsolidacao, n_iteracoes=1000)"
   ]
  },
  {
   "cell_type": "code",
   "execution_count": 147,
   "metadata": {},
   "outputs": [
    {
     "data": {
      "text/plain": [
       "(array([ 49., 267., 333., 207.,  92.,  34.,  13.,   2.,   2.,   1.]),\n",
       " array([ 6.12992312,  9.24951609, 12.36910905, 15.48870202, 18.60829498,\n",
       "        21.72788795, 24.84748091, 27.96707388, 31.08666684, 34.20625981,\n",
       "        37.32585278]),\n",
       " <a list of 10 Patch objects>)"
      ]
     },
     "execution_count": 147,
     "metadata": {},
     "output_type": "execute_result"
    },
    {
     "data": {
      "image/png": "[encoded data removed]",
      "text/plain": [
       "<Figure size 432x288 with 1 Axes>"
      ]
     },
     "metadata": {
      "needs_background": "light"
     },
     "output_type": "display_data"
    }
   ],
   "source": [
    "plt.hist(res['Consolidação'])"
   ]
  },
  {
   "cell_type": "code",
   "execution_count": null,
   "metadata": {},
   "outputs": [],
   "source": []
  },
  {
   "cell_type": "code",
   "execution_count": null,
   "metadata": {},
   "outputs": [],
   "source": []
  },
  {
   "cell_type": "code",
   "execution_count": null,
   "metadata": {},
   "outputs": [],
   "source": []
  },
  {
   "cell_type": "code",
   "execution_count": null,
   "metadata": {},
   "outputs": [],
   "source": []
  },
  {
   "cell_type": "code",
   "execution_count": null,
   "metadata": {},
   "outputs": [],
   "source": []
  }
 ],
 "metadata": {
  "kernelspec": {
   "display_name": "Python 3",
   "language": "python",
   "name": "python3"
  },
  "language_info": {
   "codemirror_mode": {
    "name": "ipython",
    "version": 3
   },
   "file_extension": ".py",
   "mimetype": "text/x-python",
   "name": "python",
   "nbconvert_exporter": "python",
   "pygments_lexer": "ipython3",
   "version": "3.8.3"
  }
 },
 "nbformat": 4,
 "nbformat_minor": 2
}
